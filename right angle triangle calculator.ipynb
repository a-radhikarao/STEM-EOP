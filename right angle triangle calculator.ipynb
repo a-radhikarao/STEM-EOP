{
 "cells": [
  {
   "cell_type": "markdown",
   "metadata": {},
   "source": [
    "## RIGHT ANGLE TRIANGLE CALCULATOR"
   ]
  },
  {
   "cell_type": "code",
   "execution_count": 6,
   "metadata": {},
   "outputs": [],
   "source": [
    "\n",
    "import math # math package has mathematical functions which are used for calulations such as finding the square root etc."
   ]
  },
  {
   "cell_type": "markdown",
   "metadata": {},
   "source": [
    "The input() function is used to take input from the user and store it in a variable. this variable will be further used for calculation in our code. \n",
    "\n",
    "the syntax for using input function is :\n",
    "Variable name=input(\"text or instruction to be displayed to user\") this text should be written in quotes.\n",
    "\n",
    "For our right angle triangle calculator. We will be taking in side A and Side B from the user as input to calculate the hypotenuse,area, angles and perimeter."
   ]
  },
  {
   "cell_type": "code",
   "execution_count": 10,
   "metadata": {},
   "outputs": [
    {
     "name": "stdout",
     "output_type": "stream",
     "text": [
      "enter side A\n",
      "3\n"
     ]
    }
   ],
   "source": [
    "a=int(input(\"enter side A\\n\"))"
   ]
  },
  {
   "cell_type": "code",
   "execution_count": 11,
   "metadata": {},
   "outputs": [
    {
     "data": {
      "text/plain": [
       "3"
      ]
     },
     "execution_count": 11,
     "metadata": {},
     "output_type": "execute_result"
    }
   ],
   "source": [
    "a"
   ]
  },
  {
   "cell_type": "code",
   "execution_count": 12,
   "metadata": {},
   "outputs": [
    {
     "name": "stdout",
     "output_type": "stream",
     "text": [
      "enter side B\n",
      "4\n"
     ]
    }
   ],
   "source": [
    "b=int(input(\"enter side B\\n\"))"
   ]
  },
  {
   "cell_type": "markdown",
   "metadata": {},
   "source": [
    "We know that hypotenuse is the square root of sum of sqaures of the other two sides. using this formula we will calculate the \n",
    "hypotenuse and store in a variable named hypotenuse.\n",
    "\n",
    "Note it is important that whenever you are calling a function from an imported library you use the following syntax to call the function :\n",
    "\n",
    "libraryname.functionname(parameters/function) for ex- math.sqrt() . the sqrt function is used to calculate the square root."
   ]
  },
  {
   "cell_type": "code",
   "execution_count": 13,
   "metadata": {},
   "outputs": [],
   "source": [
    "hypotenuse=math.sqrt(a*a+b*b)"
   ]
  },
  {
   "cell_type": "markdown",
   "metadata": {},
   "source": [
    "the formula for calculating area is product of the two sides other than the hypotenuse divided by 2"
   ]
  },
  {
   "cell_type": "code",
   "execution_count": 15,
   "metadata": {},
   "outputs": [],
   "source": [
    "area=a*b/2 #implentation of the formula"
   ]
  },
  {
   "cell_type": "markdown",
   "metadata": {},
   "source": [
    "perimeter is the sum of three sides of a triangle."
   ]
  },
  {
   "cell_type": "code",
   "execution_count": 17,
   "metadata": {},
   "outputs": [],
   "source": [
    "perimeter= a+b+hypotenuse #similarly implementation of the formula for perimeter"
   ]
  },
  {
   "cell_type": "markdown",
   "metadata": {},
   "source": [
    "to find the angle when sides are given we just have to find the sin inverse of the sides.\n",
    "\n",
    "math library in python is used for mathematical functions. the function asin is used to find the sin inverse which gives the output in radians. the output in radians is converted into degrees using math.degree() function.In python it is quite easy to write a function within a function to reduce the number of variables being used."
   ]
  },
  {
   "cell_type": "code",
   "execution_count": 36,
   "metadata": {},
   "outputs": [],
   "source": [
    "angle1=math.degrees(math.asin(a/hypotenuse))"
   ]
  },
  {
   "cell_type": "code",
   "execution_count": 37,
   "metadata": {},
   "outputs": [],
   "source": [
    "angle2=math.degrees(math.asin(b/hypotenuse))"
   ]
  },
  {
   "cell_type": "code",
   "execution_count": 42,
   "metadata": {},
   "outputs": [],
   "source": [
    "thirdangle=180-(angle1+angle2) #sum of angles in a triangle is equal to 180. using it to find third angle"
   ]
  },
  {
   "cell_type": "markdown",
   "metadata": {},
   "source": [
    "the format print(f\"sentence {variable}\") allows the user to concatenate string and integers"
   ]
  },
  {
   "cell_type": "code",
   "execution_count": 56,
   "metadata": {},
   "outputs": [
    {
     "name": "stdout",
     "output_type": "stream",
     "text": [
      "hypotenuse is\n",
      "5.0\n",
      "area of the triangle is\n",
      "6.0\n",
      "perimeter is\n",
      "12.0\n",
      "the angles of the triangle are\n",
      "36.86989764584402\n",
      "53.13010235415599\n",
      "90.0\n"
     ]
    }
   ],
   "source": [
    "print(f\"hypotenuse is\\n{hypotenuse}\")\n",
    "print(f\"area of the triangle is\\n{area}\")\n",
    "print(f\"perimeter is\\n{perimeter}\")\n",
    "print(f\"the angles of the triangle are\\n{angle1}\\n{angle2}\\n{thirdangle}\")"
   ]
  }
 ],
 "metadata": {
  "kernelspec": {
   "display_name": "Python 3",
   "language": "python",
   "name": "python3"
  },
  "language_info": {
   "codemirror_mode": {
    "name": "ipython",
    "version": 3
   },
   "file_extension": ".py",
   "mimetype": "text/x-python",
   "name": "python",
   "nbconvert_exporter": "python",
   "pygments_lexer": "ipython3",
   "version": "3.7.1"
  }
 },
 "nbformat": 4,
 "nbformat_minor": 2
}
